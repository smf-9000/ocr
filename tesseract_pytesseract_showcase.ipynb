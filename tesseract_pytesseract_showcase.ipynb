{
  "nbformat": 4,
  "nbformat_minor": 0,
  "metadata": {
    "colab": {
      "name": "tesseract-pytesseract-showcase.ipynb",
      "provenance": [],
      "collapsed_sections": [],
      "authorship_tag": "ABX9TyNCDQ/SYH6gZripDlGy2Ke8",
      "include_colab_link": true
    },
    "kernelspec": {
      "name": "python3",
      "display_name": "Python 3"
    },
    "language_info": {
      "name": "python"
    }
  },
  "cells": [
    {
      "cell_type": "markdown",
      "metadata": {
        "id": "view-in-github",
        "colab_type": "text"
      },
      "source": [
        "<a href=\"https://colab.research.google.com/github/smf-9000/ocr/blob/main/tesseract_pytesseract_showcase.ipynb\" target=\"_parent\"><img src=\"https://colab.research.google.com/assets/colab-badge.svg\" alt=\"Open In Colab\"/></a>"
      ]
    },
    {
      "cell_type": "code",
      "metadata": {
        "id": "5DwWlxQ-kuVV"
      },
      "source": [
        "!sudo apt install tesseract-ocr\n",
        "!pip install pytesseract"
      ],
      "execution_count": null,
      "outputs": []
    },
    {
      "cell_type": "code",
      "metadata": {
        "id": "X_2dBdr6lUWZ"
      },
      "source": [
        "try:\n",
        "  from PIL import Image\n",
        "except ImportError:\n",
        "  import Image\n",
        "import PIL\n",
        "import pytesseract\n",
        "import matplotlib.pyplot as plt\n",
        "import cv2"
      ],
      "execution_count": 2,
      "outputs": []
    },
    {
      "cell_type": "code",
      "metadata": {
        "colab": {
          "base_uri": "https://localhost:8080/"
        },
        "id": "xEkDRTKT7HcX",
        "outputId": "a9279850-0aa0-42d5-b2c1-e41b5fcd7e4b"
      },
      "source": [
        "print(pytesseract.image_to_string(Image.open('/content/test.png')))"
      ],
      "execution_count": 5,
      "outputs": [
        {
          "output_type": "stream",
          "text": [
            "This is a lot of 12 point text to test the\n",
            "ocr code and see if it works on all types\n",
            "of file format.\n",
            "\n",
            "The quick brown dog jumped over the\n",
            "lazy fox. The quick brown dog jumped\n",
            "over the lazy fox. The quick brown dog\n",
            "jumped over the lazy fox. The quick\n",
            "brown dog jumped over the lazy fox.\n",
            "\f\n"
          ],
          "name": "stdout"
        }
      ]
    },
    {
      "cell_type": "code",
      "metadata": {
        "colab": {
          "base_uri": "https://localhost:8080/"
        },
        "id": "cA3wg8hl_a3b",
        "outputId": "71cc0fb7-190d-4335-8952-d00af5a1c29e"
      },
      "source": [
        "print(pytesseract.get_languages(config=''))"
      ],
      "execution_count": 6,
      "outputs": [
        {
          "output_type": "stream",
          "text": [
            "['osd', 'eng']\n"
          ],
          "name": "stdout"
        }
      ]
    },
    {
      "cell_type": "code",
      "metadata": {
        "colab": {
          "base_uri": "https://localhost:8080/"
        },
        "id": "qBjXZoqI_dej",
        "outputId": "77d74933-be57-48f5-e04a-56c4d970d698"
      },
      "source": [
        "print(pytesseract.image_to_string(Image.open('test-european.jpg'), lang='eng'))"
      ],
      "execution_count": 7,
      "outputs": [
        {
          "output_type": "stream",
          "text": [
            "The (quick) [brown] {fox} jumps!\n",
            "Over the $43,456.78 <lazy> #90 dog\n",
            "& duck/goose, as 12.5% of E-mail\n",
            "from aspammer@website.com is spam.\n",
            "Der ,.schnelle” braune Fuchs springt\n",
            "iiber den faulen Hund. Le renard brun\n",
            "«rapide» saute par-dessus le chien\n",
            "paresseux. La volpe marrone rapida\n",
            "salta sopra il cane pigro. El zorro\n",
            "marron rapido salta sobre el perro\n",
            "perezoso. A raposa marrom rapida\n",
            "salta sobre 0 cdo preguicoso.\n",
            "\f\n"
          ],
          "name": "stdout"
        }
      ]
    },
    {
      "cell_type": "code",
      "metadata": {
        "colab": {
          "base_uri": "https://localhost:8080/"
        },
        "id": "Q5abj3iKAElm",
        "outputId": "cd3ca0af-05f1-4189-d12a-a26dfe8a3b89"
      },
      "source": [
        "print(pytesseract.image_to_string('test.png'))"
      ],
      "execution_count": 8,
      "outputs": [
        {
          "output_type": "stream",
          "text": [
            "This is a lot of 12 point text to test the\n",
            "ocr code and see if it works on all types\n",
            "of file format.\n",
            "\n",
            "The quick brown dog jumped over the\n",
            "lazy fox. The quick brown dog jumped\n",
            "over the lazy fox. The quick brown dog\n",
            "jumped over the lazy fox. The quick\n",
            "brown dog jumped over the lazy fox.\n",
            "\f\n"
          ],
          "name": "stdout"
        }
      ]
    },
    {
      "cell_type": "code",
      "metadata": {
        "colab": {
          "base_uri": "https://localhost:8080/"
        },
        "id": "JQadhZ9qAOS9",
        "outputId": "e871cdb2-7a6b-483c-8e28-71e5d60d750f"
      },
      "source": [
        "print(pytesseract.image_to_boxes(Image.open('test.png')))"
      ],
      "execution_count": 9,
      "outputs": [
        {
          "output_type": "stream",
          "text": [
            "T 36 364 44 388 0\n",
            "h 44 364 55 388 0\n",
            "i 59 364 71 388 0\n",
            "s 76 364 92 388 0\n",
            "i 109 364 111 388 0\n",
            "s 115 364 129 382 0\n",
            "a 141 364 155 382 0\n",
            "l 169 364 172 388 0\n",
            "o 175 364 187 382 0\n",
            "t 193 364 201 387 0\n",
            "o 212 364 225 382 0\n",
            "f 229 364 240 388 0\n",
            "1 251 364 260 388 0\n",
            "2 267 364 282 388 0\n",
            "p 296 358 304 382 0\n",
            "o 304 358 311 382 0\n",
            "i 318 364 329 382 0\n",
            "n 333 364 335 388 0\n",
            "t 345 364 364 387 0\n",
            "t 374 364 383 387 0\n",
            "e 384 364 396 382 0\n",
            "x 396 364 400 382 0\n",
            "t 409 364 427 387 0\n",
            "t 437 364 445 387 0\n",
            "o 447 364 463 382 0\n",
            "t 474 364 482 387 0\n",
            "e 485 364 497 382 0\n",
            "s 502 364 510 382 0\n",
            "t 518 364 526 387 0\n",
            "t 536 364 545 387 0\n",
            "h 550 364 561 388 0\n",
            "e 564 364 580 382 0\n",
            "o 36 330 45 348 0\n",
            "c 45 330 52 348 0\n",
            "r 59 330 81 348 0\n",
            "c 91 330 103 348 0\n",
            "o 103 330 106 348 0\n",
            "d 116 330 136 354 0\n",
            "e 144 330 155 348 0\n",
            "a 172 330 181 348 0\n",
            "n 191 330 194 348 0\n",
            "d 194 330 205 348 0\n",
            "s 208 330 223 354 0\n",
            "e 238 330 250 348 0\n",
            "e 253 330 268 348 0\n",
            "i 270 330 286 348 0\n",
            "f 299 330 314 354 0\n",
            "i 325 330 328 354 0\n",
            "t 330 330 339 353 0\n",
            "w 348 330 371 348 0\n",
            "o 373 330 386 348 0\n",
            "r 392 330 399 348 0\n",
            "k 403 330 412 354 0\n",
            "s 419 330 433 348 0\n",
            "o 445 330 454 348 0\n",
            "n 464 330 475 348 0\n",
            "a 640 0 640 0 0\n",
            "l 500 330 513 348 0\n",
            "l 519 330 529 354 0\n",
            "t 541 330 549 353 0\n",
            "y 555 323 565 348 0\n",
            "p 568 324 583 348 0\n",
            "e 586 330 597 348 0\n",
            "s 604 330 618 348 0\n",
            "o 36 296 43 314 0\n",
            "f 43 296 52 314 0\n",
            "f 53 296 64 320 0\n",
            "i 73 296 86 320 0\n",
            "l 90 296 94 320 0\n",
            "e 100 296 113 314 0\n",
            "f 123 296 133 320 0\n",
            "o 137 296 149 314 0\n",
            "r 153 296 162 314 0\n",
            "m 165 296 179 314 0\n",
            "a 179 296 187 314 0\n",
            "t 192 296 205 314 0\n",
            ". 208 296 223 319 0\n",
            "T 36 262 46 286 0\n",
            "h 46 262 55 286 0\n",
            "e 62 262 87 286 0\n",
            "q 102 256 111 280 0\n",
            "u 121 262 129 280 0\n",
            "i 140 262 142 286 0\n",
            "c 146 262 155 280 0\n",
            "k 163 262 177 286 0\n",
            "b 189 262 204 286 0\n",
            "r 207 262 217 280 0\n",
            "o 217 262 233 280 0\n",
            "w 235 262 251 280 0\n",
            "n 260 262 274 280 0\n",
            "d 287 262 298 286 0\n",
            "o 298 262 302 286 0\n",
            "g 311 255 337 280 0\n",
            "j 348 255 355 286 0\n",
            "u 361 262 373 280 0\n",
            "m 378 262 394 280 0\n",
            "p 394 262 401 280 0\n",
            "e 410 256 420 280 0\n",
            "d 426 262 451 286 0\n",
            "o 468 262 471 280 0\n",
            "v 471 262 484 280 0\n",
            "e 490 262 501 280 0\n",
            "r 503 262 519 280 0\n",
            "t 522 262 549 285 0\n",
            "h 551 262 562 286 0\n",
            "e 569 262 585 280 0\n",
            "l 37 228 40 252 0\n",
            "a 46 228 59 246 0\n",
            "z 62 228 72 246 0\n",
            "y 78 221 92 246 0\n",
            "f 103 228 113 252 0\n",
            "o 116 228 129 246 0\n",
            "x 131 228 143 246 0\n",
            ". 150 228 153 231 0\n",
            "T 165 228 184 252 0\n",
            "h 187 228 201 252 0\n",
            "e 204 228 220 246 0\n",
            "q 232 222 244 246 0\n",
            "u 251 228 259 246 0\n",
            "i 269 228 273 252 0\n",
            "c 276 228 286 246 0\n",
            "k 293 228 307 252 0\n",
            "b 319 228 332 252 0\n",
            "r 337 228 346 246 0\n",
            "o 349 228 363 246 0\n",
            "w 366 228 384 246 0\n",
            "n 390 228 403 246 0\n",
            "d 417 228 427 252 0\n",
            "o 435 228 444 246 0\n",
            "g 453 221 468 246 0\n",
            "j 478 221 485 252 0\n",
            "u 492 228 503 246 0\n",
            "m 509 228 527 246 0\n",
            "p 535 222 544 246 0\n",
            "e 552 228 561 246 0\n",
            "d 570 228 585 252 0\n",
            "o 36 194 45 212 0\n",
            "v 45 194 52 212 0\n",
            "e 58 194 69 212 0\n",
            "r 72 194 95 212 0\n",
            "t 109 194 116 217 0\n",
            "h 120 194 129 218 0\n",
            "e 137 194 150 212 0\n",
            "l 165 194 169 218 0\n",
            "a 172 194 186 212 0\n",
            "z 190 194 201 212 0\n",
            "y 206 187 221 212 0\n",
            "f 231 194 241 218 0\n",
            "o 245 194 257 212 0\n",
            "x 259 194 272 212 0\n",
            ". 278 194 281 197 0\n",
            "T 294 194 313 218 0\n",
            "h 316 194 329 218 0\n",
            "e 333 194 349 212 0\n",
            "q 360 188 375 212 0\n",
            "u 379 194 389 212 0\n",
            "i 398 194 401 218 0\n",
            "c 404 194 415 212 0\n",
            "k 421 194 435 218 0\n",
            "b 447 194 461 218 0\n",
            "r 465 194 475 212 0\n",
            "o 478 194 491 212 0\n",
            "w 495 194 513 212 0\n",
            "n 518 194 532 212 0\n",
            "d 545 194 558 218 0\n",
            "o 563 194 576 212 0\n",
            "g 581 187 597 212 0\n",
            "j 43 153 50 184 0\n",
            "u 54 160 68 178 0\n",
            "m 72 160 86 178 0\n",
            "p 86 160 96 178 0\n",
            "e 102 154 115 178 0\n",
            "d 118 160 143 184 0\n",
            "o 162 160 169 178 0\n",
            "v 169 160 178 178 0\n",
            "e 182 160 195 178 0\n",
            "r 197 160 213 178 0\n",
            "t 216 160 240 183 0\n",
            "h 246 160 255 184 0\n",
            "e 263 160 276 178 0\n",
            "l 292 160 295 184 0\n",
            "a 298 160 312 178 0\n",
            "z 316 160 326 178 0\n",
            "y 332 153 347 178 0\n",
            "f 357 160 368 184 0\n",
            "o 369 160 383 178 0\n",
            "x 385 160 398 178 0\n",
            ". 404 160 407 163 0\n",
            "T 420 160 439 184 0\n",
            "h 442 160 456 184 0\n",
            "e 459 160 475 178 0\n",
            "q 486 154 499 178 0\n",
            "u 499 154 501 178 0\n",
            "i 513 160 527 184 0\n",
            "c 530 160 543 178 0\n",
            "k 548 160 561 184 0\n",
            "b 37 126 47 150 0\n",
            "r 55 126 63 144 0\n",
            "o 65 126 80 144 0\n",
            "w 83 126 96 144 0\n",
            "n 108 126 120 144 0\n",
            "d 135 126 145 150 0\n",
            "o 145 126 150 150 0\n",
            "g 161 119 185 144 0\n",
            "j 196 119 203 150 0\n",
            "u 210 126 221 144 0\n",
            "m 226 126 242 144 0\n",
            "p 242 126 249 144 0\n",
            "e 258 120 268 144 0\n",
            "d 277 126 286 144 0\n",
            "o 288 126 304 150 0\n",
            "v 322 126 332 144 0\n",
            "e 335 126 349 144 0\n",
            "r 351 126 367 144 0\n",
            "t 370 126 379 144 0\n",
            "h 392 126 407 150 0\n",
            "e 417 126 426 144 0\n",
            "l 445 126 447 150 0\n",
            "a 451 126 462 144 0\n",
            "z 462 126 467 144 0\n",
            "y 475 119 496 144 0\n",
            "f 511 126 517 150 0\n",
            "o 521 126 530 144 0\n",
            "x 530 126 537 144 0\n",
            ". 543 126 561 144 0\n",
            "\n"
          ],
          "name": "stdout"
        }
      ]
    },
    {
      "cell_type": "code",
      "metadata": {
        "colab": {
          "base_uri": "https://localhost:8080/"
        },
        "id": "LXxlkC2hASH3",
        "outputId": "1aa8e272-cc9d-4e13-a638-49ccfbb0ae84"
      },
      "source": [
        "print(pytesseract.image_to_data(Image.open('test.png')))"
      ],
      "execution_count": 10,
      "outputs": [
        {
          "output_type": "stream",
          "text": [
            "level\tpage_num\tblock_num\tpar_num\tline_num\tword_num\tleft\ttop\twidth\theight\tconf\ttext\n",
            "1\t1\t0\t0\t0\t0\t0\t0\t640\t480\t-1\t\n",
            "2\t1\t1\t0\t0\t0\t36\t92\t582\t269\t-1\t\n",
            "3\t1\t1\t1\t0\t0\t36\t92\t582\t92\t-1\t\n",
            "4\t1\t1\t1\t1\t0\t36\t92\t544\t30\t-1\t\n",
            "5\t1\t1\t1\t1\t1\t36\t92\t60\t24\t96\tThis\n",
            "5\t1\t1\t1\t1\t2\t109\t92\t20\t24\t96\tis\n",
            "5\t1\t1\t1\t1\t3\t141\t98\t15\t18\t96\ta\n",
            "5\t1\t1\t1\t1\t4\t169\t92\t32\t24\t96\tlot\n",
            "5\t1\t1\t1\t1\t5\t212\t92\t28\t24\t96\tof\n",
            "5\t1\t1\t1\t1\t6\t251\t92\t31\t24\t96\t12\n",
            "5\t1\t1\t1\t1\t7\t296\t92\t68\t30\t96\tpoint\n",
            "5\t1\t1\t1\t1\t8\t374\t93\t53\t23\t96\ttext\n",
            "5\t1\t1\t1\t1\t9\t437\t93\t26\t23\t96\tto\n",
            "5\t1\t1\t1\t1\t10\t474\t93\t52\t23\t96\ttest\n",
            "5\t1\t1\t1\t1\t11\t536\t92\t44\t24\t96\tthe\n",
            "4\t1\t1\t1\t2\t0\t36\t126\t582\t31\t-1\t\n",
            "5\t1\t1\t1\t2\t1\t36\t132\t45\t18\t96\tocr\n",
            "5\t1\t1\t1\t2\t2\t91\t126\t69\t24\t96\tcode\n",
            "5\t1\t1\t1\t2\t3\t172\t132\t33\t18\t96\tand\n",
            "5\t1\t1\t1\t2\t4\t208\t126\t60\t24\t96\tsee\n",
            "5\t1\t1\t1\t2\t5\t270\t126\t44\t24\t94\tif\n",
            "5\t1\t1\t1\t2\t6\t325\t126\t14\t24\t94\tit\n",
            "5\t1\t1\t1\t2\t7\t348\t126\t85\t24\t95\tworks\n",
            "5\t1\t1\t1\t2\t8\t445\t132\t33\t18\t93\ton\n",
            "5\t1\t1\t1\t2\t9\t500\t126\t29\t24\t93\tall\n",
            "5\t1\t1\t1\t2\t10\t541\t127\t77\t30\t96\ttypes\n",
            "4\t1\t1\t1\t3\t0\t36\t160\t187\t24\t-1\t\n",
            "5\t1\t1\t1\t3\t1\t36\t166\t16\t18\t96\tof\n",
            "5\t1\t1\t1\t3\t2\t53\t160\t60\t24\t95\tfile\n",
            "5\t1\t1\t1\t3\t3\t123\t160\t100\t24\t95\tformat.\n",
            "3\t1\t1\t2\t0\t0\t36\t194\t561\t167\t-1\t\n",
            "4\t1\t1\t2\t1\t0\t36\t194\t549\t31\t-1\t\n",
            "5\t1\t1\t2\t1\t1\t36\t194\t55\t24\t96\tThe\n",
            "5\t1\t1\t2\t1\t2\t102\t194\t75\t30\t96\tquick\n",
            "5\t1\t1\t2\t1\t3\t189\t194\t85\t24\t96\tbrown\n",
            "5\t1\t1\t2\t1\t4\t287\t194\t52\t31\t95\tdog\n",
            "5\t1\t1\t2\t1\t5\t348\t194\t108\t31\t95\tjumped\n",
            "5\t1\t1\t2\t1\t6\t468\t200\t51\t18\t96\tover\n",
            "5\t1\t1\t2\t1\t7\t522\t194\t63\t24\t96\tthe\n",
            "4\t1\t1\t2\t2\t0\t37\t228\t548\t31\t-1\t\n",
            "5\t1\t1\t2\t2\t1\t37\t228\t55\t31\t96\tlazy\n",
            "5\t1\t1\t2\t2\t2\t103\t228\t50\t24\t96\tfox.\n",
            "5\t1\t1\t2\t2\t3\t165\t228\t55\t24\t96\tThe\n",
            "5\t1\t1\t2\t2\t4\t232\t228\t75\t30\t96\tquick\n",
            "5\t1\t1\t2\t2\t5\t319\t228\t85\t24\t96\tbrown\n",
            "5\t1\t1\t2\t2\t6\t417\t228\t51\t31\t95\tdog\n",
            "5\t1\t1\t2\t2\t7\t478\t228\t107\t31\t95\tjumped\n",
            "4\t1\t1\t2\t3\t0\t36\t262\t561\t31\t-1\t\n",
            "5\t1\t1\t2\t3\t1\t36\t268\t63\t18\t96\tover\n",
            "5\t1\t1\t2\t3\t2\t109\t262\t44\t24\t96\tthe\n",
            "5\t1\t1\t2\t3\t3\t165\t262\t56\t31\t96\tlazy\n",
            "5\t1\t1\t2\t3\t4\t231\t262\t50\t24\t96\tfox.\n",
            "5\t1\t1\t2\t3\t5\t294\t262\t55\t24\t96\tThe\n",
            "5\t1\t1\t2\t3\t6\t360\t262\t75\t30\t96\tquick\n",
            "5\t1\t1\t2\t3\t7\t447\t262\t85\t24\t96\tbrown\n",
            "5\t1\t1\t2\t3\t8\t545\t262\t52\t31\t96\tdog\n",
            "4\t1\t1\t2\t4\t0\t43\t296\t518\t31\t-1\t\n",
            "5\t1\t1\t2\t4\t1\t43\t296\t107\t31\t96\tjumped\n",
            "5\t1\t1\t2\t4\t2\t162\t302\t51\t18\t96\tover\n",
            "5\t1\t1\t2\t4\t3\t216\t296\t63\t24\t96\tthe\n",
            "5\t1\t1\t2\t4\t4\t292\t296\t55\t31\t96\tlazy\n",
            "5\t1\t1\t2\t4\t5\t357\t296\t50\t24\t96\tfox.\n",
            "5\t1\t1\t2\t4\t6\t420\t296\t55\t24\t96\tThe\n",
            "5\t1\t1\t2\t4\t7\t486\t296\t75\t30\t96\tquick\n",
            "4\t1\t1\t2\t5\t0\t37\t330\t524\t31\t-1\t\n",
            "5\t1\t1\t2\t5\t1\t37\t330\t85\t24\t96\tbrown\n",
            "5\t1\t1\t2\t5\t2\t135\t330\t52\t31\t96\tdog\n",
            "5\t1\t1\t2\t5\t3\t196\t330\t90\t31\t96\tjumped\n",
            "5\t1\t1\t2\t5\t4\t288\t330\t79\t24\t96\tover\n",
            "5\t1\t1\t2\t5\t5\t370\t330\t63\t24\t96\tthe\n",
            "5\t1\t1\t2\t5\t6\t445\t330\t55\t31\t95\tlazy\n",
            "5\t1\t1\t2\t5\t7\t511\t330\t50\t24\t96\tfox.\n",
            "\n"
          ],
          "name": "stdout"
        }
      ]
    },
    {
      "cell_type": "code",
      "metadata": {
        "colab": {
          "base_uri": "https://localhost:8080/"
        },
        "id": "6vIAetU1AWdR",
        "outputId": "5a1d2b11-5066-4b2d-fa54-0bd2d806ea17"
      },
      "source": [
        "print(pytesseract.image_to_osd(Image.open('test.png')))"
      ],
      "execution_count": 11,
      "outputs": [
        {
          "output_type": "stream",
          "text": [
            "Page number: 0\n",
            "Orientation in degrees: 0\n",
            "Rotate: 0\n",
            "Orientation confidence: 10.86\n",
            "Script: Latin\n",
            "Script confidence: 10.56\n",
            "\n"
          ],
          "name": "stdout"
        }
      ]
    },
    {
      "cell_type": "code",
      "metadata": {
        "id": "m6aOG_rdAy9x"
      },
      "source": [
        "# Get a searchable PDF\n",
        "pdf = pytesseract.image_to_pdf_or_hocr('test.png', extension='pdf')\n",
        "with open('test.pdf', 'w+b') as f:\n",
        "  f.write(pdf) # pdf type is bytes by default"
      ],
      "execution_count": 12,
      "outputs": []
    },
    {
      "cell_type": "code",
      "metadata": {
        "colab": {
          "base_uri": "https://localhost:8080/"
        },
        "id": "9zmd6rUeBeuW",
        "outputId": "4da346b6-2c01-4dd6-b229-5f0bc1af1464"
      },
      "source": [
        "hocr = pytesseract.image_to_pdf_or_hocr('test.png', extension='hocr')\n",
        "hocr"
      ],
      "execution_count": 13,
      "outputs": [
        {
          "output_type": "execute_result",
          "data": {
            "text/plain": [
              "b'<?xml version=\"1.0\" encoding=\"UTF-8\"?>\\n<!DOCTYPE html PUBLIC \"-//W3C//DTD XHTML 1.0 Transitional//EN\"\\n    \"http://www.w3.org/TR/xhtml1/DTD/xhtml1-transitional.dtd\">\\n<html xmlns=\"http://www.w3.org/1999/xhtml\" xml:lang=\"en\" lang=\"en\">\\n <head>\\n  <title></title>\\n<meta http-equiv=\"Content-Type\" content=\"text/html;charset=utf-8\" />\\n  <meta name=\\'ocr-system\\' content=\\'tesseract 4.0.0-beta.1\\' />\\n  <meta name=\\'ocr-capabilities\\' content=\\'ocr_page ocr_carea ocr_par ocr_line ocrx_word\\'/>\\n</head>\\n<body>\\n  <div class=\\'ocr_page\\' id=\\'page_1\\' title=\\'image \"/content/test.png\"; bbox 0 0 640 480; ppageno 0\\'>\\n   <div class=\\'ocr_carea\\' id=\\'block_1_1\\' title=\"bbox 36 92 618 361\">\\n    <p class=\\'ocr_par\\' id=\\'par_1_1\\' lang=\\'eng\\' title=\"bbox 36 92 618 184\">\\n     <span class=\\'ocr_line\\' id=\\'line_1_1\\' title=\"bbox 36 92 580 122; baseline 0 -6; x_size 30; x_descenders 6; x_ascenders 6\"><span class=\\'ocrx_word\\' id=\\'word_1_1\\' title=\\'bbox 36 92 96 116; x_wconf 96\\'>This</span> <span class=\\'ocrx_word\\' id=\\'word_1_2\\' title=\\'bbox 109 92 129 116; x_wconf 96\\'>is</span> <span class=\\'ocrx_word\\' id=\\'word_1_3\\' title=\\'bbox 141 98 156 116; x_wconf 96\\'>a</span> <span class=\\'ocrx_word\\' id=\\'word_1_4\\' title=\\'bbox 169 92 201 116; x_wconf 96\\'>lot</span> <span class=\\'ocrx_word\\' id=\\'word_1_5\\' title=\\'bbox 212 92 240 116; x_wconf 96\\'>of</span> <span class=\\'ocrx_word\\' id=\\'word_1_6\\' title=\\'bbox 251 92 282 116; x_wconf 96\\'>12</span> <span class=\\'ocrx_word\\' id=\\'word_1_7\\' title=\\'bbox 296 92 364 122; x_wconf 96\\'>point</span> <span class=\\'ocrx_word\\' id=\\'word_1_8\\' title=\\'bbox 374 93 427 116; x_wconf 96\\'>text</span> <span class=\\'ocrx_word\\' id=\\'word_1_9\\' title=\\'bbox 437 93 463 116; x_wconf 96\\'>to</span> <span class=\\'ocrx_word\\' id=\\'word_1_10\\' title=\\'bbox 474 93 526 116; x_wconf 96\\'>test</span> <span class=\\'ocrx_word\\' id=\\'word_1_11\\' title=\\'bbox 536 92 580 116; x_wconf 96\\'>the</span> \\n     </span>\\n     <span class=\\'ocr_line\\' id=\\'line_1_2\\' title=\"bbox 36 126 618 157; baseline 0 -7; x_size 31; x_descenders 7; x_ascenders 6\"><span class=\\'ocrx_word\\' id=\\'word_1_12\\' title=\\'bbox 36 132 81 150; x_wconf 96\\'>ocr</span> <span class=\\'ocrx_word\\' id=\\'word_1_13\\' title=\\'bbox 91 126 160 150; x_wconf 96\\'>code</span> <span class=\\'ocrx_word\\' id=\\'word_1_14\\' title=\\'bbox 172 132 205 150; x_wconf 96\\'>and</span> <span class=\\'ocrx_word\\' id=\\'word_1_15\\' title=\\'bbox 208 126 268 150; x_wconf 96\\'>see</span> <span class=\\'ocrx_word\\' id=\\'word_1_16\\' title=\\'bbox 270 126 314 150; x_wconf 94\\'>if</span> <span class=\\'ocrx_word\\' id=\\'word_1_17\\' title=\\'bbox 325 126 339 150; x_wconf 94\\'>it</span> <span class=\\'ocrx_word\\' id=\\'word_1_18\\' title=\\'bbox 348 126 433 150; x_wconf 95\\'>works</span> <span class=\\'ocrx_word\\' id=\\'word_1_19\\' title=\\'bbox 445 132 478 150; x_wconf 93\\'>on</span> <span class=\\'ocrx_word\\' id=\\'word_1_20\\' title=\\'bbox 500 126 529 150; x_wconf 93\\'>all</span> <span class=\\'ocrx_word\\' id=\\'word_1_21\\' title=\\'bbox 541 127 618 157; x_wconf 96\\'>types</span> \\n     </span>\\n     <span class=\\'ocr_line\\' id=\\'line_1_3\\' title=\"bbox 36 160 223 184; baseline 0 0; x_size 31.214842; x_descenders 7.2148418; x_ascenders 6\"><span class=\\'ocrx_word\\' id=\\'word_1_22\\' title=\\'bbox 36 166 52 184; x_wconf 96\\'>of</span> <span class=\\'ocrx_word\\' id=\\'word_1_23\\' title=\\'bbox 53 160 113 184; x_wconf 95\\'>file</span> <span class=\\'ocrx_word\\' id=\\'word_1_24\\' title=\\'bbox 123 160 223 184; x_wconf 95\\'>format.</span> \\n     </span>\\n    </p>\\n\\n    <p class=\\'ocr_par\\' id=\\'par_1_2\\' lang=\\'eng\\' title=\"bbox 36 194 597 361\">\\n     <span class=\\'ocr_line\\' id=\\'line_1_4\\' title=\"bbox 36 194 585 225; baseline 0 -7; x_size 31; x_descenders 7; x_ascenders 6\"><span class=\\'ocrx_word\\' id=\\'word_1_25\\' title=\\'bbox 36 194 91 218; x_wconf 96\\'>The</span> <span class=\\'ocrx_word\\' id=\\'word_1_26\\' title=\\'bbox 102 194 177 224; x_wconf 96\\'>quick</span> <span class=\\'ocrx_word\\' id=\\'word_1_27\\' title=\\'bbox 189 194 274 218; x_wconf 96\\'>brown</span> <span class=\\'ocrx_word\\' id=\\'word_1_28\\' title=\\'bbox 287 194 339 225; x_wconf 95\\'>dog</span> <span class=\\'ocrx_word\\' id=\\'word_1_29\\' title=\\'bbox 348 194 456 225; x_wconf 95\\'>jumped</span> <span class=\\'ocrx_word\\' id=\\'word_1_30\\' title=\\'bbox 468 200 519 218; x_wconf 96\\'>over</span> <span class=\\'ocrx_word\\' id=\\'word_1_31\\' title=\\'bbox 522 194 585 218; x_wconf 96\\'>the</span> \\n     </span>\\n     <span class=\\'ocr_line\\' id=\\'line_1_5\\' title=\"bbox 37 228 585 259; baseline 0 -7; x_size 31; x_descenders 7; x_ascenders 6\"><span class=\\'ocrx_word\\' id=\\'word_1_32\\' title=\\'bbox 37 228 92 259; x_wconf 96\\'>lazy</span> <span class=\\'ocrx_word\\' id=\\'word_1_33\\' title=\\'bbox 103 228 153 252; x_wconf 96\\'>fox.</span> <span class=\\'ocrx_word\\' id=\\'word_1_34\\' title=\\'bbox 165 228 220 252; x_wconf 96\\'>The</span> <span class=\\'ocrx_word\\' id=\\'word_1_35\\' title=\\'bbox 232 228 307 258; x_wconf 96\\'>quick</span> <span class=\\'ocrx_word\\' id=\\'word_1_36\\' title=\\'bbox 319 228 404 252; x_wconf 96\\'>brown</span> <span class=\\'ocrx_word\\' id=\\'word_1_37\\' title=\\'bbox 417 228 468 259; x_wconf 95\\'>dog</span> <span class=\\'ocrx_word\\' id=\\'word_1_38\\' title=\\'bbox 478 228 585 259; x_wconf 95\\'>jumped</span> \\n     </span>\\n     <span class=\\'ocr_line\\' id=\\'line_1_6\\' title=\"bbox 36 262 597 293; baseline 0 -7; x_size 31; x_descenders 7; x_ascenders 6\"><span class=\\'ocrx_word\\' id=\\'word_1_39\\' title=\\'bbox 36 268 99 286; x_wconf 96\\'>over</span> <span class=\\'ocrx_word\\' id=\\'word_1_40\\' title=\\'bbox 109 262 153 286; x_wconf 96\\'>the</span> <span class=\\'ocrx_word\\' id=\\'word_1_41\\' title=\\'bbox 165 262 221 293; x_wconf 96\\'>lazy</span> <span class=\\'ocrx_word\\' id=\\'word_1_42\\' title=\\'bbox 231 262 281 286; x_wconf 96\\'>fox.</span> <span class=\\'ocrx_word\\' id=\\'word_1_43\\' title=\\'bbox 294 262 349 286; x_wconf 96\\'>The</span> <span class=\\'ocrx_word\\' id=\\'word_1_44\\' title=\\'bbox 360 262 435 292; x_wconf 96\\'>quick</span> <span class=\\'ocrx_word\\' id=\\'word_1_45\\' title=\\'bbox 447 262 532 286; x_wconf 96\\'>brown</span> <span class=\\'ocrx_word\\' id=\\'word_1_46\\' title=\\'bbox 545 262 597 293; x_wconf 96\\'>dog</span> \\n     </span>\\n     <span class=\\'ocr_line\\' id=\\'line_1_7\\' title=\"bbox 43 296 561 327; baseline 0 -7; x_size 31; x_descenders 7; x_ascenders 6\"><span class=\\'ocrx_word\\' id=\\'word_1_47\\' title=\\'bbox 43 296 150 327; x_wconf 96\\'>jumped</span> <span class=\\'ocrx_word\\' id=\\'word_1_48\\' title=\\'bbox 162 302 213 320; x_wconf 96\\'>over</span> <span class=\\'ocrx_word\\' id=\\'word_1_49\\' title=\\'bbox 216 296 279 320; x_wconf 96\\'>the</span> <span class=\\'ocrx_word\\' id=\\'word_1_50\\' title=\\'bbox 292 296 347 327; x_wconf 96\\'>lazy</span> <span class=\\'ocrx_word\\' id=\\'word_1_51\\' title=\\'bbox 357 296 407 320; x_wconf 96\\'>fox.</span> <span class=\\'ocrx_word\\' id=\\'word_1_52\\' title=\\'bbox 420 296 475 320; x_wconf 96\\'>The</span> <span class=\\'ocrx_word\\' id=\\'word_1_53\\' title=\\'bbox 486 296 561 326; x_wconf 96\\'>quick</span> \\n     </span>\\n     <span class=\\'ocr_line\\' id=\\'line_1_8\\' title=\"bbox 37 330 561 361; baseline 0 -7; x_size 31; x_descenders 7; x_ascenders 6\"><span class=\\'ocrx_word\\' id=\\'word_1_54\\' title=\\'bbox 37 330 122 354; x_wconf 96\\'>brown</span> <span class=\\'ocrx_word\\' id=\\'word_1_55\\' title=\\'bbox 135 330 187 361; x_wconf 96\\'>dog</span> <span class=\\'ocrx_word\\' id=\\'word_1_56\\' title=\\'bbox 196 330 286 361; x_wconf 96\\'>jumped</span> <span class=\\'ocrx_word\\' id=\\'word_1_57\\' title=\\'bbox 288 330 367 354; x_wconf 96\\'>over</span> <span class=\\'ocrx_word\\' id=\\'word_1_58\\' title=\\'bbox 370 330 433 354; x_wconf 96\\'>the</span> <span class=\\'ocrx_word\\' id=\\'word_1_59\\' title=\\'bbox 445 330 500 361; x_wconf 95\\'>lazy</span> <span class=\\'ocrx_word\\' id=\\'word_1_60\\' title=\\'bbox 511 330 561 354; x_wconf 96\\'>fox.</span> \\n     </span>\\n    </p>\\n   </div>\\n  </div>\\n </body>\\n</html>\\n'"
            ]
          },
          "metadata": {
            "tags": []
          },
          "execution_count": 13
        }
      ]
    },
    {
      "cell_type": "code",
      "metadata": {
        "colab": {
          "base_uri": "https://localhost:8080/",
          "height": 299
        },
        "id": "MIQMNkyuBsVw",
        "outputId": "ef6d6c9c-2e78-46c3-e44f-9ead24ffc42f"
      },
      "source": [
        "xml = pytesseract.image_to_alto_xml('test.png')\n",
        "xml"
      ],
      "execution_count": 15,
      "outputs": [
        {
          "output_type": "error",
          "ename": "ALTONotSupported",
          "evalue": "ignored",
          "traceback": [
            "\u001b[0;31m---------------------------------------------------------------------------\u001b[0m",
            "\u001b[0;31mALTONotSupported\u001b[0m                          Traceback (most recent call last)",
            "\u001b[0;32m<ipython-input-15-9a1d50eee845>\u001b[0m in \u001b[0;36m<module>\u001b[0;34m()\u001b[0m\n\u001b[0;32m----> 1\u001b[0;31m \u001b[0mxml\u001b[0m \u001b[0;34m=\u001b[0m \u001b[0mpytesseract\u001b[0m\u001b[0;34m.\u001b[0m\u001b[0mimage_to_alto_xml\u001b[0m\u001b[0;34m(\u001b[0m\u001b[0;34m'test.png'\u001b[0m\u001b[0;34m)\u001b[0m\u001b[0;34m\u001b[0m\u001b[0;34m\u001b[0m\u001b[0m\n\u001b[0m\u001b[1;32m      2\u001b[0m \u001b[0mxml\u001b[0m\u001b[0;34m\u001b[0m\u001b[0;34m\u001b[0m\u001b[0m\n",
            "\u001b[0;32m/usr/local/lib/python3.7/dist-packages/pytesseract/pytesseract.py\u001b[0m in \u001b[0;36mimage_to_alto_xml\u001b[0;34m(image, lang, config, nice, timeout)\u001b[0m\n\u001b[1;32m    449\u001b[0m \u001b[0;34m\u001b[0m\u001b[0m\n\u001b[1;32m    450\u001b[0m     \u001b[0;32mif\u001b[0m \u001b[0mget_tesseract_version\u001b[0m\u001b[0;34m(\u001b[0m\u001b[0;34m)\u001b[0m \u001b[0;34m<\u001b[0m \u001b[0;34m'4.1.0'\u001b[0m\u001b[0;34m:\u001b[0m\u001b[0;34m\u001b[0m\u001b[0;34m\u001b[0m\u001b[0m\n\u001b[0;32m--> 451\u001b[0;31m         \u001b[0;32mraise\u001b[0m \u001b[0mALTONotSupported\u001b[0m\u001b[0;34m(\u001b[0m\u001b[0;34m)\u001b[0m\u001b[0;34m\u001b[0m\u001b[0;34m\u001b[0m\u001b[0m\n\u001b[0m\u001b[1;32m    452\u001b[0m \u001b[0;34m\u001b[0m\u001b[0m\n\u001b[1;32m    453\u001b[0m     \u001b[0mconfig\u001b[0m \u001b[0;34m=\u001b[0m \u001b[0;34mf'-c tessedit_create_alto=1 {config.strip()}'\u001b[0m\u001b[0;34m\u001b[0m\u001b[0;34m\u001b[0m\u001b[0m\n",
            "\u001b[0;31mALTONotSupported\u001b[0m: ALTO output not supported. Tesseract >= 4.1.0 required"
          ]
        }
      ]
    },
    {
      "cell_type": "code",
      "metadata": {
        "colab": {
          "base_uri": "https://localhost:8080/"
        },
        "id": "wKQRxQb3CsOb",
        "outputId": "fadc24d6-ca91-4120-da70-f1fba117bfa1"
      },
      "source": [
        "import cv2\n",
        "\n",
        "img_cv = cv2.imread(r'/content/test.png')\n",
        "img_rgb = cv2.cvtColor(img_cv, cv2.COLOR_BGR2RGB)\n",
        "print(pytesseract.image_to_string(img_rgb))"
      ],
      "execution_count": 16,
      "outputs": [
        {
          "output_type": "stream",
          "text": [
            "This is a lot of 12 point text to test the\n",
            "ocr code and see if it works on all types\n",
            "of file format.\n",
            "\n",
            "The quick brown dog jumped over the\n",
            "lazy fox. The quick brown dog jumped\n",
            "over the lazy fox. The quick brown dog\n",
            "jumped over the lazy fox. The quick\n",
            "brown dog jumped over the lazy fox.\n",
            "\f\n"
          ],
          "name": "stdout"
        }
      ]
    },
    {
      "cell_type": "code",
      "metadata": {
        "id": "8Nb0es5pC56l"
      },
      "source": [
        "from google.colab.patches import cv2_imshow"
      ],
      "execution_count": 17,
      "outputs": []
    },
    {
      "cell_type": "code",
      "metadata": {
        "colab": {
          "base_uri": "https://localhost:8080/",
          "height": 497
        },
        "id": "EI9OLaavDNCX",
        "outputId": "50f67567-8d8d-4258-f242-0b1070515e38"
      },
      "source": [
        "cv2_imshow(img_cv)"
      ],
      "execution_count": 18,
      "outputs": [
        {
          "output_type": "display_data",
          "data": {
            "image/png": "[encoded data removed]",
            "text/plain": [
              "<PIL.Image.Image image mode=RGB size=640x480 at 0x7FE3128B3F50>"
            ]
          },
          "metadata": {
            "tags": []
          }
        }
      ]
    },
    {
      "cell_type": "code",
      "metadata": {
        "colab": {
          "base_uri": "https://localhost:8080/",
          "height": 47
        },
        "id": "h2cgF2nDDSdY",
        "outputId": "c2a3891c-c185-4889-8ff8-fe61a37b1fc6"
      },
      "source": [
        "cv2_imshow(img_cv[90:120,30:160])"
      ],
      "execution_count": 19,
      "outputs": [
        {
          "output_type": "display_data",
          "data": {
            "image/png": "[encoded data removed]",
            "text/plain": [
              "<PIL.Image.Image image mode=RGB size=130x30 at 0x7FE3128BE410>"
            ]
          },
          "metadata": {
            "tags": []
          }
        }
      ]
    },
    {
      "cell_type": "code",
      "metadata": {
        "colab": {
          "base_uri": "https://localhost:8080/"
        },
        "id": "kr23da1REev-",
        "outputId": "50e695ab-f712-4bba-8777-a929b35cd692"
      },
      "source": [
        "# output_type='dict'!!!\n",
        "hm = pytesseract.image_to_data(Image.open('test.png'), output_type='dict')\n",
        "for k, v in hm.items():\n",
        "  print(k, v)"
      ],
      "execution_count": 20,
      "outputs": [
        {
          "output_type": "stream",
          "text": [
            "level [1, 2, 3, 4, 5, 5, 5, 5, 5, 5, 5, 5, 5, 5, 5, 4, 5, 5, 5, 5, 5, 5, 5, 5, 5, 5, 4, 5, 5, 5, 3, 4, 5, 5, 5, 5, 5, 5, 5, 4, 5, 5, 5, 5, 5, 5, 5, 4, 5, 5, 5, 5, 5, 5, 5, 5, 4, 5, 5, 5, 5, 5, 5, 5, 4, 5, 5, 5, 5, 5, 5, 5]\n",
            "page_num [1, 1, 1, 1, 1, 1, 1, 1, 1, 1, 1, 1, 1, 1, 1, 1, 1, 1, 1, 1, 1, 1, 1, 1, 1, 1, 1, 1, 1, 1, 1, 1, 1, 1, 1, 1, 1, 1, 1, 1, 1, 1, 1, 1, 1, 1, 1, 1, 1, 1, 1, 1, 1, 1, 1, 1, 1, 1, 1, 1, 1, 1, 1, 1, 1, 1, 1, 1, 1, 1, 1, 1]\n",
            "block_num [0, 1, 1, 1, 1, 1, 1, 1, 1, 1, 1, 1, 1, 1, 1, 1, 1, 1, 1, 1, 1, 1, 1, 1, 1, 1, 1, 1, 1, 1, 1, 1, 1, 1, 1, 1, 1, 1, 1, 1, 1, 1, 1, 1, 1, 1, 1, 1, 1, 1, 1, 1, 1, 1, 1, 1, 1, 1, 1, 1, 1, 1, 1, 1, 1, 1, 1, 1, 1, 1, 1, 1]\n",
            "par_num [0, 0, 1, 1, 1, 1, 1, 1, 1, 1, 1, 1, 1, 1, 1, 1, 1, 1, 1, 1, 1, 1, 1, 1, 1, 1, 1, 1, 1, 1, 2, 2, 2, 2, 2, 2, 2, 2, 2, 2, 2, 2, 2, 2, 2, 2, 2, 2, 2, 2, 2, 2, 2, 2, 2, 2, 2, 2, 2, 2, 2, 2, 2, 2, 2, 2, 2, 2, 2, 2, 2, 2]\n",
            "line_num [0, 0, 0, 1, 1, 1, 1, 1, 1, 1, 1, 1, 1, 1, 1, 2, 2, 2, 2, 2, 2, 2, 2, 2, 2, 2, 3, 3, 3, 3, 0, 1, 1, 1, 1, 1, 1, 1, 1, 2, 2, 2, 2, 2, 2, 2, 2, 3, 3, 3, 3, 3, 3, 3, 3, 3, 4, 4, 4, 4, 4, 4, 4, 4, 5, 5, 5, 5, 5, 5, 5, 5]\n",
            "word_num [0, 0, 0, 0, 1, 2, 3, 4, 5, 6, 7, 8, 9, 10, 11, 0, 1, 2, 3, 4, 5, 6, 7, 8, 9, 10, 0, 1, 2, 3, 0, 0, 1, 2, 3, 4, 5, 6, 7, 0, 1, 2, 3, 4, 5, 6, 7, 0, 1, 2, 3, 4, 5, 6, 7, 8, 0, 1, 2, 3, 4, 5, 6, 7, 0, 1, 2, 3, 4, 5, 6, 7]\n",
            "left [0, 36, 36, 36, 36, 109, 141, 169, 212, 251, 296, 374, 437, 474, 536, 36, 36, 91, 172, 208, 270, 325, 348, 445, 500, 541, 36, 36, 53, 123, 36, 36, 36, 102, 189, 287, 348, 468, 522, 37, 37, 103, 165, 232, 319, 417, 478, 36, 36, 109, 165, 231, 294, 360, 447, 545, 43, 43, 162, 216, 292, 357, 420, 486, 37, 37, 135, 196, 288, 370, 445, 511]\n",
            "top [0, 92, 92, 92, 92, 92, 98, 92, 92, 92, 92, 93, 93, 93, 92, 126, 132, 126, 132, 126, 126, 126, 126, 132, 126, 127, 160, 166, 160, 160, 194, 194, 194, 194, 194, 194, 194, 200, 194, 228, 228, 228, 228, 228, 228, 228, 228, 262, 268, 262, 262, 262, 262, 262, 262, 262, 296, 296, 302, 296, 296, 296, 296, 296, 330, 330, 330, 330, 330, 330, 330, 330]\n",
            "width [640, 582, 582, 544, 60, 20, 15, 32, 28, 31, 68, 53, 26, 52, 44, 582, 45, 69, 33, 60, 44, 14, 85, 33, 29, 77, 187, 16, 60, 100, 561, 549, 55, 75, 85, 52, 108, 51, 63, 548, 55, 50, 55, 75, 85, 51, 107, 561, 63, 44, 56, 50, 55, 75, 85, 52, 518, 107, 51, 63, 55, 50, 55, 75, 524, 85, 52, 90, 79, 63, 55, 50]\n",
            "height [480, 269, 92, 30, 24, 24, 18, 24, 24, 24, 30, 23, 23, 23, 24, 31, 18, 24, 18, 24, 24, 24, 24, 18, 24, 30, 24, 18, 24, 24, 167, 31, 24, 30, 24, 31, 31, 18, 24, 31, 31, 24, 24, 30, 24, 31, 31, 31, 18, 24, 31, 24, 24, 30, 24, 31, 31, 31, 18, 24, 31, 24, 24, 30, 31, 24, 31, 31, 24, 24, 31, 24]\n",
            "conf ['-1', '-1', '-1', '-1', 96, 96, 96, 96, 96, 96, 96, 96, 96, 96, 96, '-1', 96, 96, 96, 96, 94, 94, 95, 93, 93, 96, '-1', 96, 95, 95, '-1', '-1', 96, 96, 96, 95, 95, 96, 96, '-1', 96, 96, 96, 96, 96, 95, 95, '-1', 96, 96, 96, 96, 96, 96, 96, 96, '-1', 96, 96, 96, 96, 96, 96, 96, '-1', 96, 96, 96, 96, 96, 95, 96]\n",
            "text ['', '', '', '', 'This', 'is', 'a', 'lot', 'of', '12', 'point', 'text', 'to', 'test', 'the', '', 'ocr', 'code', 'and', 'see', 'if', 'it', 'works', 'on', 'all', 'types', '', 'of', 'file', 'format.', '', '', 'The', 'quick', 'brown', 'dog', 'jumped', 'over', 'the', '', 'lazy', 'fox.', 'The', 'quick', 'brown', 'dog', 'jumped', '', 'over', 'the', 'lazy', 'fox.', 'The', 'quick', 'brown', 'dog', '', 'jumped', 'over', 'the', 'lazy', 'fox.', 'The', 'quick', '', 'brown', 'dog', 'jumped', 'over', 'the', 'lazy', 'fox.']\n"
          ],
          "name": "stdout"
        }
      ]
    },
    {
      "cell_type": "markdown",
      "metadata": {
        "id": "-IEiTsQeRVQ2"
      },
      "source": [
        "\n",
        "\n",
        "```\n",
        "# https://stackoverflow.com/a/61502798\n",
        "\n",
        "1. Item with no block_num, paragraph_num, line_num, word_num\n",
        "2. Item with block_num and with no paragraph_num, line_num, word_num\n",
        "3. Item with block_num, paragraph_num and with no line_num, word_num\n",
        "4. Item with block_num, paragraph_num, line_num, and with no word_num\n",
        "5. Item with all those numbers\n",
        "```\n",
        "\n"
      ]
    },
    {
      "cell_type": "code",
      "metadata": {
        "colab": {
          "base_uri": "https://localhost:8080/"
        },
        "id": "ZrUKhToPRx8y",
        "outputId": "f193dde3-4e53-4156-d216-ac004725dda8"
      },
      "source": [
        "\n",
        "M = {'pages': []}\n",
        "for i in range(len(hm['page_num'])):\n",
        "  if hm['word_num'][i] > 0:\n",
        "    if hm['page_num'][i] > len(M['pages']):\n",
        "      M['pages'].append({'blocks': [{'paragraphs': [{'lines': [{'words': []}]}]}]})\n",
        "    if hm['block_num'][i] > len(M['pages'][-1]['blocks']):\n",
        "      M['pages'][-1]['blocks'].append({'paragraphs': [{'lines': [{'words': []}]}]})\n",
        "    if hm['par_num'][i] > len(M['pages'][-1]['blocks'][-1]['paragraphs']):\n",
        "      M['pages'][-1]['blocks'][-1]['paragraphs'].append({'lines': [{'words': []}]})\n",
        "    if hm['line_num'][i] > len(M['pages'][-1]['blocks'][-1]['paragraphs'][-1]['lines']):\n",
        "      M['pages'][-1]['blocks'][-1]['paragraphs'][-1]['lines'].append({'words': []})\n",
        "    w = {'txt': hm['text'][i], 'l': hm['left'][i], 't': hm['top'][i], 'w': hm['width'][i], 'h': hm['height'][i], 'conf': hm['conf'][i]}\n",
        "    M['pages'][-1]['blocks'][-1]['paragraphs'][-1]['lines'][-1]['words'].append(w)\n",
        "M"
      ],
      "execution_count": 44,
      "outputs": [
        {
          "output_type": "execute_result",
          "data": {
            "text/plain": [
              "{'pages': [{'blocks': [{'paragraphs': [{'lines': [{'words': [{'conf': 96,\n",
              "           'h': 24,\n",
              "           'l': 36,\n",
              "           't': 92,\n",
              "           'txt': 'This',\n",
              "           'w': 60},\n",
              "          {'conf': 96, 'h': 24, 'l': 109, 't': 92, 'txt': 'is', 'w': 20},\n",
              "          {'conf': 96, 'h': 18, 'l': 141, 't': 98, 'txt': 'a', 'w': 15},\n",
              "          {'conf': 96, 'h': 24, 'l': 169, 't': 92, 'txt': 'lot', 'w': 32},\n",
              "          {'conf': 96, 'h': 24, 'l': 212, 't': 92, 'txt': 'of', 'w': 28},\n",
              "          {'conf': 96, 'h': 24, 'l': 251, 't': 92, 'txt': '12', 'w': 31},\n",
              "          {'conf': 96, 'h': 30, 'l': 296, 't': 92, 'txt': 'point', 'w': 68},\n",
              "          {'conf': 96, 'h': 23, 'l': 374, 't': 93, 'txt': 'text', 'w': 53},\n",
              "          {'conf': 96, 'h': 23, 'l': 437, 't': 93, 'txt': 'to', 'w': 26},\n",
              "          {'conf': 96, 'h': 23, 'l': 474, 't': 93, 'txt': 'test', 'w': 52},\n",
              "          {'conf': 96, 'h': 24, 'l': 536, 't': 92, 'txt': 'the', 'w': 44}]},\n",
              "        {'words': [{'conf': 96,\n",
              "           'h': 18,\n",
              "           'l': 36,\n",
              "           't': 132,\n",
              "           'txt': 'ocr',\n",
              "           'w': 45},\n",
              "          {'conf': 96, 'h': 24, 'l': 91, 't': 126, 'txt': 'code', 'w': 69},\n",
              "          {'conf': 96, 'h': 18, 'l': 172, 't': 132, 'txt': 'and', 'w': 33},\n",
              "          {'conf': 96, 'h': 24, 'l': 208, 't': 126, 'txt': 'see', 'w': 60},\n",
              "          {'conf': 94, 'h': 24, 'l': 270, 't': 126, 'txt': 'if', 'w': 44},\n",
              "          {'conf': 94, 'h': 24, 'l': 325, 't': 126, 'txt': 'it', 'w': 14},\n",
              "          {'conf': 95, 'h': 24, 'l': 348, 't': 126, 'txt': 'works', 'w': 85},\n",
              "          {'conf': 93, 'h': 18, 'l': 445, 't': 132, 'txt': 'on', 'w': 33},\n",
              "          {'conf': 93, 'h': 24, 'l': 500, 't': 126, 'txt': 'all', 'w': 29},\n",
              "          {'conf': 96, 'h': 30, 'l': 541, 't': 127, 'txt': 'types', 'w': 77}]},\n",
              "        {'words': [{'conf': 96,\n",
              "           'h': 18,\n",
              "           'l': 36,\n",
              "           't': 166,\n",
              "           'txt': 'of',\n",
              "           'w': 16},\n",
              "          {'conf': 95, 'h': 24, 'l': 53, 't': 160, 'txt': 'file', 'w': 60},\n",
              "          {'conf': 95,\n",
              "           'h': 24,\n",
              "           'l': 123,\n",
              "           't': 160,\n",
              "           'txt': 'format.',\n",
              "           'w': 100}]}]},\n",
              "      {'lines': [{'words': [{'conf': 96,\n",
              "           'h': 24,\n",
              "           'l': 36,\n",
              "           't': 194,\n",
              "           'txt': 'The',\n",
              "           'w': 55},\n",
              "          {'conf': 96, 'h': 30, 'l': 102, 't': 194, 'txt': 'quick', 'w': 75},\n",
              "          {'conf': 96, 'h': 24, 'l': 189, 't': 194, 'txt': 'brown', 'w': 85},\n",
              "          {'conf': 95, 'h': 31, 'l': 287, 't': 194, 'txt': 'dog', 'w': 52},\n",
              "          {'conf': 95, 'h': 31, 'l': 348, 't': 194, 'txt': 'jumped', 'w': 108},\n",
              "          {'conf': 96, 'h': 18, 'l': 468, 't': 200, 'txt': 'over', 'w': 51},\n",
              "          {'conf': 96, 'h': 24, 'l': 522, 't': 194, 'txt': 'the', 'w': 63}]},\n",
              "        {'words': [{'conf': 96,\n",
              "           'h': 31,\n",
              "           'l': 37,\n",
              "           't': 228,\n",
              "           'txt': 'lazy',\n",
              "           'w': 55},\n",
              "          {'conf': 96, 'h': 24, 'l': 103, 't': 228, 'txt': 'fox.', 'w': 50},\n",
              "          {'conf': 96, 'h': 24, 'l': 165, 't': 228, 'txt': 'The', 'w': 55},\n",
              "          {'conf': 96, 'h': 30, 'l': 232, 't': 228, 'txt': 'quick', 'w': 75},\n",
              "          {'conf': 96, 'h': 24, 'l': 319, 't': 228, 'txt': 'brown', 'w': 85},\n",
              "          {'conf': 95, 'h': 31, 'l': 417, 't': 228, 'txt': 'dog', 'w': 51},\n",
              "          {'conf': 95,\n",
              "           'h': 31,\n",
              "           'l': 478,\n",
              "           't': 228,\n",
              "           'txt': 'jumped',\n",
              "           'w': 107}]},\n",
              "        {'words': [{'conf': 96,\n",
              "           'h': 18,\n",
              "           'l': 36,\n",
              "           't': 268,\n",
              "           'txt': 'over',\n",
              "           'w': 63},\n",
              "          {'conf': 96, 'h': 24, 'l': 109, 't': 262, 'txt': 'the', 'w': 44},\n",
              "          {'conf': 96, 'h': 31, 'l': 165, 't': 262, 'txt': 'lazy', 'w': 56},\n",
              "          {'conf': 96, 'h': 24, 'l': 231, 't': 262, 'txt': 'fox.', 'w': 50},\n",
              "          {'conf': 96, 'h': 24, 'l': 294, 't': 262, 'txt': 'The', 'w': 55},\n",
              "          {'conf': 96, 'h': 30, 'l': 360, 't': 262, 'txt': 'quick', 'w': 75},\n",
              "          {'conf': 96, 'h': 24, 'l': 447, 't': 262, 'txt': 'brown', 'w': 85},\n",
              "          {'conf': 96, 'h': 31, 'l': 545, 't': 262, 'txt': 'dog', 'w': 52}]},\n",
              "        {'words': [{'conf': 96,\n",
              "           'h': 31,\n",
              "           'l': 43,\n",
              "           't': 296,\n",
              "           'txt': 'jumped',\n",
              "           'w': 107},\n",
              "          {'conf': 96, 'h': 18, 'l': 162, 't': 302, 'txt': 'over', 'w': 51},\n",
              "          {'conf': 96, 'h': 24, 'l': 216, 't': 296, 'txt': 'the', 'w': 63},\n",
              "          {'conf': 96, 'h': 31, 'l': 292, 't': 296, 'txt': 'lazy', 'w': 55},\n",
              "          {'conf': 96, 'h': 24, 'l': 357, 't': 296, 'txt': 'fox.', 'w': 50},\n",
              "          {'conf': 96, 'h': 24, 'l': 420, 't': 296, 'txt': 'The', 'w': 55},\n",
              "          {'conf': 96, 'h': 30, 'l': 486, 't': 296, 'txt': 'quick', 'w': 75}]},\n",
              "        {'words': [{'conf': 96,\n",
              "           'h': 24,\n",
              "           'l': 37,\n",
              "           't': 330,\n",
              "           'txt': 'brown',\n",
              "           'w': 85},\n",
              "          {'conf': 96, 'h': 31, 'l': 135, 't': 330, 'txt': 'dog', 'w': 52},\n",
              "          {'conf': 96, 'h': 31, 'l': 196, 't': 330, 'txt': 'jumped', 'w': 90},\n",
              "          {'conf': 96, 'h': 24, 'l': 288, 't': 330, 'txt': 'over', 'w': 79},\n",
              "          {'conf': 96, 'h': 24, 'l': 370, 't': 330, 'txt': 'the', 'w': 63},\n",
              "          {'conf': 95, 'h': 31, 'l': 445, 't': 330, 'txt': 'lazy', 'w': 55},\n",
              "          {'conf': 96,\n",
              "           'h': 24,\n",
              "           'l': 511,\n",
              "           't': 330,\n",
              "           'txt': 'fox.',\n",
              "           'w': 50}]}]}]}]}]}"
            ]
          },
          "metadata": {
            "tags": []
          },
          "execution_count": 44
        }
      ]
    }
  ]
}